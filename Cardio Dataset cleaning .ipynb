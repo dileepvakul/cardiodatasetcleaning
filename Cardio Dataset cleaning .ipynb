{
 "cells": [
  {
   "cell_type": "code",
   "execution_count": 1,
   "id": "9ade05b2",
   "metadata": {},
   "outputs": [],
   "source": [
    "import pandas as pd \n",
    "import numpy as np"
   ]
  },
  {
   "cell_type": "code",
   "execution_count": 4,
   "id": "902b7ba3",
   "metadata": {
    "scrolled": true
   },
   "outputs": [
    {
     "name": "stdout",
     "output_type": "stream",
     "text": [
      "0    35021\n",
      "1    34979\n",
      "Name: cardio, dtype: int64\n",
      "(70000, 13)\n"
     ]
    }
   ],
   "source": [
    "data = pd.read_csv(\"cardiouncleaned.csv\")\n",
    "y_value_counts=data['cardio'].value_counts()\n",
    "print(y_value_counts)\n",
    "print(data.shape)"
   ]
  },
  {
   "cell_type": "code",
   "execution_count": 8,
   "id": "414dba5c",
   "metadata": {
    "scrolled": true
   },
   "outputs": [
    {
     "name": "stdout",
     "output_type": "stream",
     "text": [
      "(67795, 13)\n",
      "<bound method NDFrame.head of           id    age  gender  height  weight  ap_hi  ap_lo cholesterol  \\\n",
      "0          0  18393    male     168    62.0    110     80  c1_average   \n",
      "1          1  20228  female     156    85.0    140     90           3   \n",
      "2          2  18857  female     165    64.0    130     70           3   \n",
      "3          3  17623    male     169    82.0    150    100  c1_average   \n",
      "4          4  17474  female     156    56.0    100     60  c1_average   \n",
      "...      ...    ...     ...     ...     ...    ...    ...         ...   \n",
      "69995  99993  19240    male     168    76.0    120     80  c1_average   \n",
      "69996  99995  22601  female     158   126.0    140     90           2   \n",
      "69997  99996  19066    male     183   105.0    180     90           3   \n",
      "69998  99998  22431  female     163    72.0    135     80  c1_average   \n",
      "69999  99999  20540  female     170    72.0    120     80           2   \n",
      "\n",
      "               gluc       smoke  alco  active  cardio  \n",
      "0           average  nosmoking      0       1       0  \n",
      "1           average  nosmoking      0       1       1  \n",
      "2           average  nosmoking      0       0       1  \n",
      "3           average  nosmoking      0       1       1  \n",
      "4           average  nosmoking      0       0       0  \n",
      "...             ...         ...   ...     ...     ...  \n",
      "69995       average    smoking      0       1       0  \n",
      "69996  aboveaverage  nosmoking      0       1       1  \n",
      "69997       average  nosmoking      1       0       1  \n",
      "69998  aboveaverage  nosmoking      0       0       1  \n",
      "69999       average  nosmoking      0       1       0  \n",
      "\n",
      "[67795 rows x 13 columns]>\n"
     ]
    }
   ],
   "source": [
    "data.drop(data[data[\"ap_hi\"]<60].index,axis=0,inplace =True)#delete rows that have ap_hi value less than 60 \n",
    "data.drop(data[data[\"ap_hi\"]>240].index,axis=0,inplace =True)#delete rows that have ap_hi values greater than 240\n",
    "data.drop(data[data[\"ap_lo\"]>180].index,axis=0,inplace =True)#delete rows that have ap_lo values greatethan 180\n",
    "data.drop(data[data[\"ap_lo\"]<40].index,axis=0,inplace =True)# delete rows that have ap_lo values lesser than 40\n",
    "data.drop(data[data[\"weight\"]<50].index,axis=0,inplace =True)# delete rows that have weight less than 50 grams \n",
    "data.drop(data[data[\"weight\"]>210].index,axis=0,inplace =True)# delete rows that have weight greater than 210 grams \n",
    "\n",
    "\n",
    "data['gender']=data['gender'].replace(1,'female')#replace gender value 1 to female\n",
    "data['gender']=data['gender'].replace(2,'male')#replace gender value 2 to male\n",
    "data['smoke']=data['smoke'].replace(0,'nosmoking ')#replace gender value 0 to no smoking\n",
    "data['smoke']=data['smoke'].replace(1,'smoking ')#replace gender value 1 to smoking\n",
    "data['cholesterol']=data['cholesterol'].replace(1,'c1_average')#replacing colestrol and all \n",
    "data['gluc']=data['gluc'].replace(1,'average')\n",
    "data['gluc']=data['gluc'].replace(2,'aboveaverage')\n",
    "data['gluc']=data['gluc'].replace(3,'high')\n",
    "print(data.shape)\n",
    "print(data.head)\n",
    "\n",
    "\n",
    "\n",
    "\n"
   ]
  },
  {
   "cell_type": "code",
   "execution_count": 10,
   "id": "42cc0a1c",
   "metadata": {},
   "outputs": [],
   "source": [
    "data.to_csv(r'cardiocleaned.csv')# saving data in a new file in csv frmat"
   ]
  }
 ],
 "metadata": {
  "kernelspec": {
   "display_name": "Python 3",
   "language": "python",
   "name": "python3"
  },
  "language_info": {
   "codemirror_mode": {
    "name": "ipython",
    "version": 3
   },
   "file_extension": ".py",
   "mimetype": "text/x-python",
   "name": "python",
   "nbconvert_exporter": "python",
   "pygments_lexer": "ipython3",
   "version": "3.8.8"
  }
 },
 "nbformat": 4,
 "nbformat_minor": 5
}
